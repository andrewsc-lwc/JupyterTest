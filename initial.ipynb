{
 "cells": [
  {
   "cell_type": "markdown",
   "id": "aed1f17e-82c1-41cf-8c09-9e43e99d6d65",
   "metadata": {},
   "source": [
    "<img src=\"https://cdn.britannica.com/84/206384-131-207CC735/Javan-gliding-tree-frog.jpg\" width=\"300\">"
   ]
  },
  {
   "cell_type": "code",
   "execution_count": 1,
   "id": "74817599-735c-43a3-9d07-f0dfc8a6e41a",
   "metadata": {},
   "outputs": [
    {
     "name": "stdout",
     "output_type": "stream",
     "text": [
      "Hi\n"
     ]
    }
   ],
   "source": [
    "print(\"Hi\")"
   ]
  },
  {
   "cell_type": "code",
   "execution_count": 4,
   "id": "06206c3f-7386-457f-9565-bf0a688c641a",
   "metadata": {},
   "outputs": [
    {
     "name": "stdout",
     "output_type": "stream",
     "text": [
      "36\n",
      "Bob\n"
     ]
    }
   ],
   "source": [
    "x = 36\n",
    "print(x)\n",
    "class Frog():\n",
    "    def __init__(self):\n",
    "        self.name = \"Bob\"\n",
    "        self.age = 0\n",
    "        \n",
    "new = Frog()\n",
    "print(new.name)"
   ]
  },
  {
   "cell_type": "markdown",
   "id": "8524c136-9583-406b-940a-df8d0732bc4d",
   "metadata": {},
   "source": [
    "So the above is a very basic way to create a class and instantiate an object from it."
   ]
  },
  {
   "cell_type": "markdown",
   "id": "ab3099e6-8bcf-434d-b01b-86a2f27694e6",
   "metadata": {},
   "source": [
    "# This is a title"
   ]
  },
  {
   "cell_type": "markdown",
   "id": "85bc88ea-6a3f-43f0-ac65-b9e21c136048",
   "metadata": {},
   "source": [
    "## This is a subtitle"
   ]
  },
  {
   "cell_type": "markdown",
   "id": "85eff3e4-9285-4f51-a845-d3a681e0a0e6",
   "metadata": {},
   "source": [
    "### I don't know what this is"
   ]
  },
  {
   "cell_type": "code",
   "execution_count": 7,
   "id": "d2002362-e73d-48b7-aa28-54943d6a026b",
   "metadata": {},
   "outputs": [],
   "source": [
    "\n",
    "# import everything from tkinter module\n",
    "from tkinter import *\n",
    "  \n",
    "root = Tk()\n",
    "  \n",
    "root.geometry('430x300')\n",
    "  \n",
    "title = Label(root, text=x, bg=\"green\", font=(\"bold\", 30))\n",
    "title.pack()\n",
    "c = Canvas(root, width=330, height=200, bg=\"red\")\n",
    "c.place(x=50, y=50)\n",
    "btn = Button(root, text='Welcome to Tkinter!', width=40,\n",
    "             height=5, bd='10', command=root.destroy)\n",
    "  \n",
    "btn.place(x=65, y=100)\n",
    "  \n",
    "root.mainloop()\n"
   ]
  },
  {
   "cell_type": "code",
   "execution_count": null,
   "id": "feaaa643-bc70-45b1-bcf9-103a47a62f19",
   "metadata": {},
   "outputs": [],
   "source": []
  }
 ],
 "metadata": {
  "kernelspec": {
   "display_name": "Python 3",
   "language": "python",
   "name": "python3"
  },
  "language_info": {
   "codemirror_mode": {
    "name": "ipython",
    "version": 3
   },
   "file_extension": ".py",
   "mimetype": "text/x-python",
   "name": "python",
   "nbconvert_exporter": "python",
   "pygments_lexer": "ipython3",
   "version": "3.9.2"
  }
 },
 "nbformat": 4,
 "nbformat_minor": 5
}
