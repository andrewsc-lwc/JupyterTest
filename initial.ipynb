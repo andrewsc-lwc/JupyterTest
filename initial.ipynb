{
 "cells": [
  {
   "cell_type": "markdown",
   "id": "aed1f17e-82c1-41cf-8c09-9e43e99d6d65",
   "metadata": {},
   "source": [
    "<img src=\"https://cdn.britannica.com/84/206384-131-207CC735/Javan-gliding-tree-frog.jpg\" width=\"300\">"
   ]
  },
  {
   "cell_type": "code",
   "execution_count": null,
   "id": "74817599-735c-43a3-9d07-f0dfc8a6e41a",
   "metadata": {},
   "outputs": [],
   "source": []
  }
 ],
 "metadata": {
  "kernelspec": {
   "display_name": "Python 3",
   "language": "python",
   "name": "python3"
  },
  "language_info": {
   "codemirror_mode": {
    "name": "ipython",
    "version": 3
   },
   "file_extension": ".py",
   "mimetype": "text/x-python",
   "name": "python",
   "nbconvert_exporter": "python",
   "pygments_lexer": "ipython3",
   "version": "3.9.2"
  }
 },
 "nbformat": 4,
 "nbformat_minor": 5
}
